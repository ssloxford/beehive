{
 "cells": [
  {
   "cell_type": "code",
   "execution_count": 1,
   "outputs": [],
   "source": [
    "import pandas as pd\n",
    "import warnings\n",
    "warnings.simplefilter(action='ignore', category=pd.errors.PerformanceWarning)\n",
    "warnings.simplefilter(action='ignore', category=FutureWarning)\n",
    "\n",
    "import numpy as np\n",
    "import matplotlib.pyplot as plt\n",
    "import os\n",
    "import tsfresh\n",
    "from datetime import timedelta\n",
    "\n",
    "from sklearn.feature_selection import mutual_info_classif\n",
    "from sklearn.preprocessing import LabelEncoder\n",
    "%matplotlib inline"
   ],
   "metadata": {
    "collapsed": false,
    "pycharm": {
     "name": "#%%\n"
    }
   }
  },
  {
   "cell_type": "code",
   "execution_count": 2,
   "outputs": [],
   "source": [
    "sensor_types = ['mic', 'acc']"
   ],
   "metadata": {
    "collapsed": false,
    "pycharm": {
     "name": "#%%\n"
    }
   }
  },
  {
   "cell_type": "code",
   "execution_count": 3,
   "outputs": [],
   "source": [
    "def trial_sample_extraction(path, disable_contact = False):\n",
    "    sensors_dict = {}\n",
    "    if disable_contact:\n",
    "        sensors = ['acc', 'mic']\n",
    "    else:\n",
    "        sensors = ['contact', 'acc', 'mic']\n",
    "    for sensor in sensors:\n",
    "        full_path = path + '_' + sensor + '.csv'\n",
    "        if not os.path.isfile(full_path):\n",
    "            return False\n",
    "        sample = pd.read_csv(full_path)\n",
    "        sample['time_s'] = sample['time_s'].apply(lambda epoch: epoch * 1e9)\n",
    "        sample['time_s'] = pd.to_datetime(sample['time_s'])\n",
    "        sample = sample.drop(sample.columns[0], axis=1)\n",
    "        sample.index = sample.time_s\n",
    "        sample = sample.drop(['time_s'], axis=1)\n",
    "        sensors_dict[sensor] = sample\n",
    "    return sensors_dict"
   ],
   "metadata": {
    "collapsed": false,
    "pycharm": {
     "name": "#%%\n"
    }
   }
  },
  {
   "cell_type": "code",
   "execution_count": 4,
   "outputs": [],
   "source": [
    "def calc_jerk(acc_df):\n",
    "    date = pd.Series(acc_df.index)\n",
    "    date.index = pd.to_datetime(date)\n",
    "    time_d = (date - date.shift())\n",
    "    time_d = time_d.apply(lambda x: (x.microseconds/1000))\n",
    "\n",
    "    acc_df['jerk_x'] = acc_df['ax'].rolling(2).apply(lambda x: (x.iloc[1] - x.iloc[0]))\n",
    "    acc_df['jerk_x'] = acc_df['jerk_x'].div(time_d)\n",
    "\n",
    "    acc_df['jerk_y'] = acc_df['ay'].rolling(2).apply(lambda x: (x.iloc[1] - x.iloc[0]))\n",
    "    acc_df['jerk_y'] = acc_df['jerk_y'].div(time_d)\n",
    "\n",
    "    acc_df['jerk_z'] = acc_df['az'].rolling(2).apply(lambda x: (x.iloc[1] - x.iloc[0]))\n",
    "    acc_df['jerk_z'] = acc_df['jerk_z'].div(time_d)\n",
    "    acc_df.fillna(0, inplace=True)\n",
    "\n",
    "    return acc_df"
   ],
   "metadata": {
    "collapsed": false,
    "pycharm": {
     "name": "#%%\n"
    }
   }
  },
  {
   "cell_type": "code",
   "execution_count": 5,
   "outputs": [],
   "source": [
    "def calc_stats(df):\n",
    "    stats_pd = pd.DataFrame()\n",
    "    for sensor_type in sensor_types:\n",
    "        for column in df[sensor_type].columns:\n",
    "            stats_pd['mean_' + column] = [df[sensor_type][column].mean()]\n",
    "            stats_pd['std_' + column] = [df[sensor_type][column].std()]\n",
    "            stats_pd['min_' + column] = [df[sensor_type][column].min()]\n",
    "            stats_pd['max_' + column] = [df[sensor_type][column].max()]\n",
    "            stats_pd['var_' + column] = [df[sensor_type][column].var()]\n",
    "            stats_pd['kurt_' + column] = [df[sensor_type][column].kurt()]\n",
    "            stats_pd['skew_' + column] = [df[sensor_type][column].skew()]\n",
    "            stats_pd['median_' + column] = [df[sensor_type][column].median()]\n",
    "            stats_pd['abs_energy_' + column] = [tsfresh.feature_extraction.feature_calculators.abs_energy(df[sensor_type][column])]\n",
    "            stats_pd['peaks_' + column] = [tsfresh.feature_extraction.feature_calculators.number_cwt_peaks(df[sensor_type][column], 2)]\n",
    "            stats_pd['derv_central_' + column] = [tsfresh.feature_extraction.feature_calculators.mean_second_derivative_central(df[sensor_type][column])]\n",
    "            stats_pd['mean_abs_change_' + column] = [tsfresh.feature_extraction.feature_calculators.mean_abs_change(df[sensor_type][column])]\n",
    "            stats_pd['abs_sum_change_' + column] = [tsfresh.feature_extraction.feature_calculators.absolute_sum_of_changes(df[sensor_type][column])]\n",
    "            stats_pd['fourier_entropy_' + column] = [tsfresh.feature_extraction.feature_calculators.fourier_entropy(df[sensor_type][column], 2)]\n",
    "            rms = np.sqrt(np.mean(df[sensor_type][column]**2))\n",
    "            stats_pd['root_mean_s_' + column] = [rms]\n",
    "            stats_pd['shape_factor_' + column] = [rms / (df[sensor_type][column].apply(abs).mean())]\n",
    "    stats_pd.reset_index(inplace=True, drop=True)\n",
    "    return stats_pd"
   ],
   "metadata": {
    "collapsed": false,
    "pycharm": {
     "name": "#%%\n"
    }
   }
  },
  {
   "cell_type": "code",
   "execution_count": 6,
   "outputs": [],
   "source": [
    "def encodeLabels(df, binary, binary_target=None):\n",
    "    if binary:\n",
    "        df['label'] = np.where(df['label'].str.contains(binary_target), 1, 0)\n",
    "    else:\n",
    "        encoder = LabelEncoder()\n",
    "        df['label'] = encoder.fit_transform(df['label'])"
   ],
   "metadata": {
    "collapsed": false,
    "pycharm": {
     "name": "#%%\n"
    }
   }
  },
  {
   "cell_type": "code",
   "execution_count": 7,
   "outputs": [],
   "source": [
    "def discrete_entropy(y):\n",
    "    bincount = np.bincount(y)\n",
    "    probabilities = bincount/float(bincount.sum())\n",
    "    return -(probabilities * np.log(probabilities)).sum()\n",
    "\n",
    "def compute_rmi(X, y):\n",
    "    mi_ = mutual_info_classif(X, y, discrete_features=False, random_state=101)\n",
    "    e = discrete_entropy(y)\n",
    "    rmi = [i/e for i in mi_]\n",
    "    #rmi_ = mi_ / float(discrete_entropy(y.astype(int)))\n",
    "    return rmi"
   ],
   "metadata": {
    "collapsed": false,
    "pycharm": {
     "name": "#%%\n"
    }
   }
  },
  {
   "cell_type": "code",
   "execution_count": 8,
   "outputs": [],
   "source": [
    "def table_cell_format(v):\n",
    "    import matplotlib.colors as colors\n",
    "    import matplotlib.cm as cmx\n",
    "    cmp = cm = plt.get_cmap('Greys')\n",
    "    cNorm = colors.Normalize(vmin=0, vmax=2)\n",
    "    scalarMap = cmx.ScalarMappable(norm=cNorm, cmap=cmp)\n",
    "    color_val = scalarMap.to_rgba(v)\n",
    "    r, g, b, a = color_val\n",
    "    return \"\\cellcolor[rgb]{%.2f, %.2f, %.2f} \" % (r, g, b) + \"%.2f\" % (v*100)"
   ],
   "metadata": {
    "collapsed": false,
    "pycharm": {
     "name": "#%%\n"
    }
   }
  },
  {
   "cell_type": "code",
   "execution_count": 9,
   "outputs": [
    {
     "name": "stdout",
     "output_type": "stream",
     "text": [
      "On-device RMIs\n",
      "         ACC       MAG      GYRO       MIC\n",
      "O1  0.300835  0.405805  0.718607  0.182781\n",
      "O2  0.509518  0.473050  0.644498  0.253681\n",
      "O3  0.629030  0.395019  0.738978  0.098231\n",
      "O4  0.303868  0.332843  0.194060  0.157761\n",
      "O5  0.322450  0.644622  0.481833  0.143288\n",
      "O6  0.340684  0.406440  0.604763  0.416681\n",
      "O7  0.372007  0.272095  0.219496  0.410017\n",
      "O8  0.354303  0.541416  0.411243  0.141448\n",
      "----------------------\n",
      "Colocated devices RMIs\n",
      "         ACC       MAG      GYRO       MIC\n",
      "O1  0.792139  0.688948  0.720775  0.228050\n",
      "O2  0.858592  0.537162  0.591036  0.265681\n",
      "O3  0.776886  0.755310  0.742084  0.162618\n",
      "O4  0.765119  0.734311  0.612789  0.233101\n",
      "O5  0.792276  0.735210  0.607556  0.179314\n",
      "O6  0.981899  0.694403  0.904079  0.429623\n",
      "O7  0.812138  0.731229  0.575604  0.287031\n",
      "O8  0.860899  0.539963  0.583710  0.206504\n"
     ]
    }
   ],
   "source": [
    "set_sensors = ['O1', 'O2', 'O3', 'O4', 'O5', 'O6', 'O7', 'O8']\n",
    "part_names = ['participant_J', 'participant_K', 'participant_L', 'participant_E', 'participant_F', 'participant_A', 'participant_C', 'participant_G', 'participant_I',\n",
    "              'participant_M', 'participant_B', 'participant_D', 'participant_H']\n",
    "\n",
    "column_names = [\"ACC\", \"MAG\", \"GYRO\", \"MIC\"]\n",
    "\n",
    "df_rmis = pd.DataFrame(columns=column_names)\n",
    "df_coloc_rmis = pd.DataFrame(columns=column_names)\n",
    "\n",
    "acc = [\"_ax\", \"_ay\", \"_az\"]\n",
    "mag = [\"_mx\", \"_my\", \"_mz\"]\n",
    "gyr = [\"_gx\", \"_gy\", \"_gz\"]\n",
    "mic = [\"_spl\"]\n",
    "\n",
    "for sensor in set_sensors:\n",
    "\n",
    "    directory_in_str = './data_dev/' + sensor + '/day2/data/'\n",
    "    directory_in_str2 = './data_dev/' + sensor + '/day1/data/'\n",
    "\n",
    "    binary = True\n",
    "    s_f_num = 20\n",
    "    set_paths = set()\n",
    "    set_names = set()\n",
    "    first_pass = True\n",
    "    first_pass_attack = True\n",
    "    substrings = ['participant_F_10', 'participant_F_11', 'participant_F_12', 'participant_F_13', 'participant_F_14', 'participant_F_15']\n",
    "    video_ppl = ['pE', 'pA', 'pC', 'pG', 'pI', 'pL']\n",
    "\n",
    "    per_device_df = pd.DataFrame()\n",
    "    per_device_df_attack = pd.DataFrame()\n",
    "\n",
    "    directory = os.fsencode(directory_in_str)\n",
    "    for file in os.listdir(directory):\n",
    "        filename = os.fsdecode(file)\n",
    "        if filename.endswith(\".csv\"):\n",
    "            if any(x in str(filename) for x in part_names):\n",
    "                path = directory_in_str + filename\n",
    "                path = path[:-4]\n",
    "                path_elems = path.split(\"_\")\n",
    "                str_path = \"\"\n",
    "                str_path = str_path.join(\"_\".join(path_elems[:-1]))\n",
    "                set_paths.add(str_path)\n",
    "\n",
    "    directory = os.fsencode(directory_in_str2)\n",
    "    for file in os.listdir(directory):\n",
    "        filename = os.fsdecode(file)\n",
    "        if filename.endswith(\".csv\"):\n",
    "            if any(x in str(filename) for x in part_names):\n",
    "                path = directory_in_str2 + filename\n",
    "                path = path[:-4]\n",
    "                path_elems = path.split(\"_\")\n",
    "                str_path = \"\"\n",
    "                str_path = str_path.join(\"_\".join(path_elems[:-1]))\n",
    "                set_paths.add(str_path)\n",
    "\n",
    "    for path in sorted(set_paths):\n",
    "        if True:\n",
    "\n",
    "            # Extract the participant's name from the path\n",
    "            path_elems_global = path.split(\"/\")\n",
    "            path_elems_local = path_elems_global[-1].split(\"_\")\n",
    "            part_name = path_elems_local[1][0] + path_elems_local[2]\n",
    "            set_names.add(part_name)\n",
    "\n",
    "            path_trial_part = \"_\".join(path_elems_local[1:])\n",
    "            trial_stamp = path_elems_local[3] + \"_\" + path_elems_local[4]\n",
    "\n",
    "            # Extract the participant's trial from the sensor folder\n",
    "            sample1 = trial_sample_extraction(path)\n",
    "\n",
    "            if len(sample1['contact']) < 2:\n",
    "                continue\n",
    "\n",
    "            time_start = sample1['contact']['status'][sample1['contact']['status'] == 'open'].index[0]\n",
    "            time_stop = sample1['contact']['status'][sample1['contact']['status'] == 'close'].index[0]\n",
    "\n",
    "            # Extract the event from the sample - open and close the doors\n",
    "            for sensor_type in sensor_types:\n",
    "                t1 = (sample1[sensor_type].index >= (time_start - timedelta(seconds=1)))\n",
    "                t2 = (sample1[sensor_type].index <= (time_stop + timedelta(seconds=1)))\n",
    "                mask = t1 & t2\n",
    "                sample1[sensor_type] = sample1[sensor_type].loc[mask]\n",
    "\n",
    "            # Calc jerk\n",
    "            sample1['acc'] = calc_jerk(sample1['acc'])\n",
    "\n",
    "            # Calc features\n",
    "            sample1_stats = calc_stats(sample1)\n",
    "            # sample1_stats['label'] = part_name\n",
    "\n",
    "            first = True\n",
    "            # Extract paths from other devices based on the current trial and participant\n",
    "\n",
    "            set_sensors = ['O1', 'O2', 'O3', 'O4', 'O5', 'O6', 'O7', 'O8']\n",
    "\n",
    "            for sens in set_sensors:\n",
    "                if sens not in [sensor]:  # exclude the current device\n",
    "                    if \"contact\" not in path_trial_part:\n",
    "                        dir_ = './data_dev/' + sens + \"/\" + \"/\".join(\n",
    "                            path_elems_global[3:5]) + '/' + sens + \"_\" + path_trial_part\n",
    "                        sample_exter = trial_sample_extraction(dir_, True)\n",
    "                        if sample_exter == False:\n",
    "                            continue\n",
    "                        for sensor_type in sensor_types:\n",
    "                            t1 = (sample_exter[sensor_type].index >= (time_start - timedelta(seconds=1)))\n",
    "                            t2 = (sample_exter[sensor_type].index <= (time_stop + timedelta(seconds=1)))\n",
    "                            mask = t1 & t2\n",
    "                            sample_exter[sensor_type] = sample_exter[sensor_type].loc[mask]\n",
    "\n",
    "                        sample_exter['acc'] = calc_jerk(sample_exter['acc'])\n",
    "                        sample_exter_stats = calc_stats(sample_exter)\n",
    "                        sample_exter_stats.columns = [col + '_' + sens for col in sample_exter_stats.columns]\n",
    "\n",
    "                        if first:\n",
    "                            first = False\n",
    "                            per_colo_device_df = sample_exter_stats\n",
    "                        else:\n",
    "                            per_colo_device_df = pd.concat([per_colo_device_df, sample_exter_stats], axis=1)\n",
    "\n",
    "            # both main and colocated\n",
    "            #helper_df = pd.concat([sample1_stats, per_colo_device_df],\n",
    "            #                      axis=1)  # features from all the devices from the user's trial n authenticating interaction x\n",
    "\n",
    "            # only colocated\n",
    "            helper_df2 = per_colo_device_df\n",
    "\n",
    "            # only main one\n",
    "            helper_df = sample1_stats\n",
    "\n",
    "            helper_df['label'] = part_name\n",
    "            helper_df['trial_stamp'] = trial_stamp\n",
    "\n",
    "            helper_df2['label'] = part_name\n",
    "            helper_df2['trial_stamp'] = trial_stamp\n",
    "\n",
    "            if 'attack' in path:\n",
    "                continue\n",
    "\n",
    "            if first_pass:\n",
    "                first_pass = False\n",
    "                per_device_df = pd.DataFrame(columns=helper_df.columns)\n",
    "                per_device_df2 = pd.DataFrame(columns=helper_df2.columns)\n",
    "\n",
    "            per_device_df = per_device_df.append(helper_df, ignore_index=True)\n",
    "            per_device_df2 = per_device_df2.append(helper_df2, ignore_index=True)\n",
    "\n",
    "    per_device_df = per_device_df.dropna()\n",
    "    per_device_df2 = per_device_df2.dropna()\n",
    "\n",
    "    type_ = True  # binary because we want to analyze only attacks\n",
    "\n",
    "    if True:\n",
    "        per_device_df_copy = per_device_df.copy()\n",
    "        per_device_df2_copy = per_device_df2.copy()\n",
    "\n",
    "        encodeLabels(per_device_df_copy, type_, 'pF')\n",
    "        encodeLabels(per_device_df2_copy, type_, 'pF')\n",
    "\n",
    "        X = per_device_df_copy.drop(['label', 'trial_stamp'], axis=1)\n",
    "        X2 = per_device_df2_copy.drop(['label', 'trial_stamp'], axis=1)\n",
    "\n",
    "        y = per_device_df_copy['label']\n",
    "        y2 = per_device_df2_copy['label']\n",
    "\n",
    "        # To generate a RMI table\n",
    "        feats_acc = [i for e in acc for i in X if e in i]\n",
    "        feats_mag = [i for e in mag for i in X if e in i]\n",
    "        feats_gyr = [i for e in gyr for i in X if e in i]\n",
    "        feats_mic = [i for e in mic for i in X if e in i]\n",
    "\n",
    "        feats_acc2 = [i for e in acc for i in X2 if e in i]\n",
    "        feats_mag2 = [i for e in mag for i in X2 if e in i]\n",
    "        feats_gyr2 = [i for e in gyr for i in X2 if e in i]\n",
    "        feats_mic2 = [i for e in mic for i in X2 if e in i]\n",
    "\n",
    "        dev_rmi_acc = compute_rmi(X[feats_acc], y)\n",
    "        acc_max = max(dev_rmi_acc)\n",
    "\n",
    "        dev_rmi_mag = compute_rmi(X[feats_mag], y)\n",
    "        mag_max = max(dev_rmi_mag)\n",
    "\n",
    "        dev_rmi_gyr = compute_rmi(X[feats_gyr], y)\n",
    "        gyr_max = max(dev_rmi_gyr)\n",
    "\n",
    "        dev_rmi_mic = compute_rmi(X[feats_mic], y)\n",
    "        mic_max = max(dev_rmi_mic)\n",
    "\n",
    "        df_rmis.loc[sensor] = [acc_max, mag_max, gyr_max, mic_max]\n",
    "\n",
    "        # Colocated RMI\n",
    "        dev_rmi_acc = compute_rmi(X2[feats_acc2], y2)\n",
    "        acc_max = max(dev_rmi_acc)\n",
    "\n",
    "        dev_rmi_mag = compute_rmi(X2[feats_mag2], y2)\n",
    "        mag_max = max(dev_rmi_mag)\n",
    "\n",
    "        dev_rmi_gyr = compute_rmi(X2[feats_gyr2], y2)\n",
    "        gyr_max = max(dev_rmi_gyr)\n",
    "\n",
    "        dev_rmi_mic = compute_rmi(X2[feats_mic2], y2)\n",
    "        mic_max = max(dev_rmi_mic)\n",
    "\n",
    "        df_coloc_rmis.loc[sensor] = [acc_max, mag_max, gyr_max, mic_max]\n",
    "\n",
    "print(\"On-device RMIs\")\n",
    "print(df_rmis)\n",
    "print(\"----------------------\")\n",
    "print(\"Colocated devices RMIs\")\n",
    "print(df_coloc_rmis)"
   ],
   "metadata": {
    "collapsed": false,
    "pycharm": {
     "name": "#%%\n"
    }
   }
  },
  {
   "cell_type": "code",
   "execution_count": 10,
   "outputs": [
    {
     "name": "stdout",
     "output_type": "stream",
     "text": [
      "On-device RMIs\n",
      "\\begin{tabular}{lcccc}\n",
      "\\toprule\n",
      "Object Type &                                     ACC &                                     MAG &                                    GYRO &                                     MIC \\\\\n",
      "\\midrule\n",
      "O1 & \\cellcolor[rgb]{0.92, 0.92, 0.92} 30.08 & \\cellcolor[rgb]{0.89, 0.89, 0.89} 40.58 & \\cellcolor[rgb]{0.76, 0.76, 0.76} 71.86 & \\cellcolor[rgb]{0.96, 0.96, 0.96} 18.28 \\\\\n",
      "O2 & \\cellcolor[rgb]{0.85, 0.85, 0.85} 50.95 & \\cellcolor[rgb]{0.86, 0.86, 0.86} 47.30 & \\cellcolor[rgb]{0.79, 0.79, 0.79} 64.45 & \\cellcolor[rgb]{0.94, 0.94, 0.94} 25.37 \\\\\n",
      "O3 & \\cellcolor[rgb]{0.80, 0.80, 0.80} 62.90 & \\cellcolor[rgb]{0.89, 0.89, 0.89} 39.50 & \\cellcolor[rgb]{0.75, 0.75, 0.75} 73.90 &  \\cellcolor[rgb]{0.98, 0.98, 0.98} 9.82 \\\\\n",
      "O4 & \\cellcolor[rgb]{0.92, 0.92, 0.92} 30.39 & \\cellcolor[rgb]{0.91, 0.91, 0.91} 33.28 & \\cellcolor[rgb]{0.96, 0.96, 0.96} 19.41 & \\cellcolor[rgb]{0.96, 0.96, 0.96} 15.78 \\\\\n",
      "O5 & \\cellcolor[rgb]{0.92, 0.92, 0.92} 32.24 & \\cellcolor[rgb]{0.79, 0.79, 0.79} 64.46 & \\cellcolor[rgb]{0.86, 0.86, 0.86} 48.18 & \\cellcolor[rgb]{0.97, 0.97, 0.97} 14.33 \\\\\n",
      "O6 & \\cellcolor[rgb]{0.91, 0.91, 0.91} 34.07 & \\cellcolor[rgb]{0.88, 0.88, 0.88} 40.64 & \\cellcolor[rgb]{0.81, 0.81, 0.81} 60.48 & \\cellcolor[rgb]{0.88, 0.88, 0.88} 41.67 \\\\\n",
      "O7 & \\cellcolor[rgb]{0.90, 0.90, 0.90} 37.20 & \\cellcolor[rgb]{0.94, 0.94, 0.94} 27.21 & \\cellcolor[rgb]{0.95, 0.95, 0.95} 21.95 & \\cellcolor[rgb]{0.88, 0.88, 0.88} 41.00 \\\\\n",
      "O8 & \\cellcolor[rgb]{0.90, 0.90, 0.90} 35.43 & \\cellcolor[rgb]{0.83, 0.83, 0.83} 54.14 & \\cellcolor[rgb]{0.88, 0.88, 0.88} 41.12 & \\cellcolor[rgb]{0.97, 0.97, 0.97} 14.14 \\\\\n",
      "\\bottomrule\n",
      "\\end{tabular}\n",
      "\n"
     ]
    }
   ],
   "source": [
    "print(\"On-device RMIs\")\n",
    "print(df_rmis.to_latex(escape = False, column_format=\"l\"+\"c\"*len(df_rmis.columns), formatters=[table_cell_format for i in df_rmis.columns]).replace(\"{} &\", \"Object Type &\"))"
   ],
   "metadata": {
    "collapsed": false,
    "pycharm": {
     "name": "#%%\n"
    }
   }
  },
  {
   "cell_type": "code",
   "execution_count": 11,
   "outputs": [
    {
     "name": "stdout",
     "output_type": "stream",
     "text": [
      "Colocated devices RMIs\n",
      "\\begin{tabular}{lcccc}\n",
      "\\toprule\n",
      "Object Type &                                     ACC &                                     MAG &                                    GYRO &                                     MIC \\\\\n",
      "\\midrule\n",
      "O1 & \\cellcolor[rgb]{0.72, 0.72, 0.72} 79.21 & \\cellcolor[rgb]{0.77, 0.77, 0.77} 68.89 & \\cellcolor[rgb]{0.75, 0.75, 0.75} 72.08 & \\cellcolor[rgb]{0.95, 0.95, 0.95} 22.80 \\\\\n",
      "O2 & \\cellcolor[rgb]{0.68, 0.68, 0.68} 85.86 & \\cellcolor[rgb]{0.84, 0.84, 0.84} 53.72 & \\cellcolor[rgb]{0.81, 0.81, 0.81} 59.10 & \\cellcolor[rgb]{0.94, 0.94, 0.94} 26.57 \\\\\n",
      "O3 & \\cellcolor[rgb]{0.72, 0.72, 0.72} 77.69 & \\cellcolor[rgb]{0.74, 0.74, 0.74} 75.53 & \\cellcolor[rgb]{0.75, 0.75, 0.75} 74.21 & \\cellcolor[rgb]{0.96, 0.96, 0.96} 16.26 \\\\\n",
      "O4 & \\cellcolor[rgb]{0.73, 0.73, 0.73} 76.51 & \\cellcolor[rgb]{0.75, 0.75, 0.75} 73.43 & \\cellcolor[rgb]{0.80, 0.80, 0.80} 61.28 & \\cellcolor[rgb]{0.95, 0.95, 0.95} 23.31 \\\\\n",
      "O5 & \\cellcolor[rgb]{0.72, 0.72, 0.72} 79.23 & \\cellcolor[rgb]{0.75, 0.75, 0.75} 73.52 & \\cellcolor[rgb]{0.81, 0.81, 0.81} 60.76 & \\cellcolor[rgb]{0.96, 0.96, 0.96} 17.93 \\\\\n",
      "O6 & \\cellcolor[rgb]{0.60, 0.60, 0.60} 98.19 & \\cellcolor[rgb]{0.77, 0.77, 0.77} 69.44 & \\cellcolor[rgb]{0.65, 0.65, 0.65} 90.41 & \\cellcolor[rgb]{0.88, 0.88, 0.88} 42.96 \\\\\n",
      "O7 & \\cellcolor[rgb]{0.71, 0.71, 0.71} 81.21 & \\cellcolor[rgb]{0.75, 0.75, 0.75} 73.12 & \\cellcolor[rgb]{0.82, 0.82, 0.82} 57.56 & \\cellcolor[rgb]{0.93, 0.93, 0.93} 28.70 \\\\\n",
      "O8 & \\cellcolor[rgb]{0.67, 0.67, 0.67} 86.09 & \\cellcolor[rgb]{0.83, 0.83, 0.83} 54.00 & \\cellcolor[rgb]{0.82, 0.82, 0.82} 58.37 & \\cellcolor[rgb]{0.95, 0.95, 0.95} 20.65 \\\\\n",
      "\\bottomrule\n",
      "\\end{tabular}\n",
      "\n"
     ]
    }
   ],
   "source": [
    "print(\"Colocated devices RMIs\")\n",
    "print(df_coloc_rmis.to_latex(escape = False, column_format=\"l\"+\"c\"*len(df_coloc_rmis.columns), formatters=[table_cell_format for i in df_coloc_rmis.columns]).replace(\"{} &\", \"Object Type &\"))"
   ],
   "metadata": {
    "collapsed": false,
    "pycharm": {
     "name": "#%%\n"
    }
   }
  }
 ],
 "metadata": {
  "kernelspec": {
   "display_name": "Python 3",
   "language": "python",
   "name": "python3"
  },
  "language_info": {
   "codemirror_mode": {
    "name": "ipython",
    "version": 2
   },
   "file_extension": ".py",
   "mimetype": "text/x-python",
   "name": "python",
   "nbconvert_exporter": "python",
   "pygments_lexer": "ipython2",
   "version": "2.7.6"
  }
 },
 "nbformat": 4,
 "nbformat_minor": 0
}